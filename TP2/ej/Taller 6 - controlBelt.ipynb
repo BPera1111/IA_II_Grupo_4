{
 "cells": [
  {
   "cell_type": "markdown",
   "metadata": {},
   "source": [
    "<h2> Taller 6 - controlBelt - Lógica difusa para el control de posición</h2>\n",
    "\n",
    "<br>Requiere el simulador CoppeliaSim con la escena controlBelt.ttt cargada.\n",
    "<br>Requiere además que los archivos 'sim.py', 'simConst.py', 'remoteapi.dll' estén alojados en la misma carpeta que este cuaderno de Jupyter\n",
    "<br><h4> Instrucciones</h4>\n",
    "<br>1. Abra la escena controlBelt.ttt\n",
    "<br>2. Inicie la simulación en CoppeliaSim.\n",
    "<br>3. A continuación ejecute las celdas de código desde el cuaderno de Jupyter.\n"
   ]
  },
  {
   "cell_type": "code",
   "execution_count": 1,
   "metadata": {},
   "outputs": [],
   "source": [
    "import sim\n",
    "import numpy as np\n",
    "import fuzzy\n",
    "import matplotlib.pyplot as plt"
   ]
  },
  {
   "cell_type": "markdown",
   "metadata": {},
   "source": [
    "### 1. Definimos varias funciones para conectarnos con el simulador\n",
    "Para mayor información sobre la API remota de CoppeliaSim para Python, refiérase a la documentación oficial en https://www.coppeliarobotics.com/helpFiles/en/remoteApiFunctionsPython.htm"
   ]
  },
  {
   "cell_type": "code",
   "execution_count": 2,
   "metadata": {},
   "outputs": [],
   "source": [
    "def connect(port):\n",
    "# Establece la conexión al simulador\n",
    "# port debe coincidir con el puerto de conexión en CoppeliaSIm\n",
    "# retorna el número de cliente o -1 si no puede establecer conexión\n",
    "    sim.simxFinish(-1) # just in case, close all opened connections\n",
    "    clientID=sim.simxStart('127.0.0.1',port,True,True,2000,5) # Conectarse\n",
    "    if clientID == 0: print(\"conectado a\", port)\n",
    "    else: print(\"no se pudo conectar\")\n",
    "    return clientID\n"
   ]
  },
  {
   "cell_type": "code",
   "execution_count": 3,
   "metadata": {},
   "outputs": [],
   "source": [
    "def moveBelt(V):\n",
    "# acciona la correa transportadora\n",
    "# V es Float con el valor de voltaje que se pasará a la función setVelocity\n",
    "    res,retInts,retFloats,retStrings,retBuffer=sim.simxCallScriptFunction(clientID,\n",
    "        \"ConveyorBelt\", sim.sim_scripttype_childscript,\"setVelocity\",[],[V],[],\"\", sim.simx_opmode_blocking)\n",
    "    return res"
   ]
  },
  {
   "cell_type": "code",
   "execution_count": 4,
   "metadata": {},
   "outputs": [],
   "source": [
    "def getPos(objName):\n",
    "# obtiene la posición [x y z] de un objeto\n",
    "# objName es un String con el nombre del objeto\n",
    "    res,handler=sim.simxGetObjectHandle(clientID,objName,sim.simx_opmode_blocking)\n",
    "    if res==0:\n",
    "        res, pos=sim.simxGetObjectPosition(clientID,handler,-1,sim.simx_opmode_blocking)\n",
    "        if res==0:\n",
    "            return pos\n",
    "    else:\n",
    "        return -1"
   ]
  },
  {
   "cell_type": "code",
   "execution_count": 5,
   "metadata": {},
   "outputs": [],
   "source": [
    "def getSimTime():\n",
    "# obtiene el instante de tiempo de simulación en que se ejecutó \n",
    "# la última instrucción en el simulador\n",
    "    return sim.simxGetLastCmdTime(clientID)"
   ]
  },
  {
   "cell_type": "markdown",
   "metadata": {},
   "source": [
    "### 2. Verificamos la comunicación"
   ]
  },
  {
   "cell_type": "code",
   "execution_count": 6,
   "metadata": {},
   "outputs": [
    {
     "name": "stdout",
     "output_type": "stream",
     "text": [
      "no se pudo conectar\n"
     ]
    }
   ],
   "source": [
    "# Conectarse al servidor de VREP\n",
    "# *** ejecutar cada vez que se reinicia la simulación ***\n",
    "clientID = connect(19999)\n",
    "clientID = connect(19999)\n",
    "clientID = connect(19999)"
   ]
  },
  {
   "cell_type": "code",
   "execution_count": 7,
   "metadata": {},
   "outputs": [
    {
     "data": {
      "text/plain": [
       "64"
      ]
     },
     "execution_count": 7,
     "metadata": {},
     "output_type": "execute_result"
    }
   ],
   "source": [
    "# moveBelt(volt) envía al motor un voltaje en Volts\n",
    "moveBelt(0)"
   ]
  },
  {
   "cell_type": "code",
   "execution_count": 8,
   "metadata": {},
   "outputs": [
    {
     "ename": "TypeError",
     "evalue": "'int' object is not subscriptable",
     "output_type": "error",
     "traceback": [
      "\u001b[0;31m---------------------------------------------------------------------------\u001b[0m",
      "\u001b[0;31mTypeError\u001b[0m                                 Traceback (most recent call last)",
      "Cell \u001b[0;32mIn[8], line 2\u001b[0m\n\u001b[1;32m      1\u001b[0m \u001b[38;5;66;03m# Obtiene la posición del objeto \"Sphere\"\u001b[39;00m\n\u001b[0;32m----> 2\u001b[0m \u001b[43mgetPos\u001b[49m\u001b[43m(\u001b[49m\u001b[38;5;124;43m\"\u001b[39;49m\u001b[38;5;124;43mSphere\u001b[39;49m\u001b[38;5;124;43m\"\u001b[39;49m\u001b[43m)\u001b[49m\u001b[43m[\u001b[49m\u001b[38;5;241;43m0\u001b[39;49m\u001b[43m]\u001b[49m\n",
      "\u001b[0;31mTypeError\u001b[0m: 'int' object is not subscriptable"
     ]
    }
   ],
   "source": [
    "# Obtiene la posición del objeto \"Sphere\"\n",
    "getPos(\"Sphere\")[0]"
   ]
  },
  {
   "cell_type": "markdown",
   "metadata": {},
   "source": [
    "<h3> 3. Probamos el control proporcional</h3>\n",
    "La velocidad de la correa será proporcional a la diferencia de distancia entre la posición deseada (target) y la posición de la esfera. Con Kp = 0.8, será nuestra referencia para comparar el controlador difuso."
   ]
  },
  {
   "cell_type": "code",
   "execution_count": null,
   "metadata": {},
   "outputs": [
    {
     "name": "stdout",
     "output_type": "stream",
     "text": [
      "conectado a 19999\n"
     ]
    },
    {
     "data": {
      "image/png": "[encoded data removed]",
      "text/plain": [
       "<Figure size 640x480 with 1 Axes>"
      ]
     },
     "metadata": {},
     "output_type": "display_data"
    }
   ],
   "source": [
    "# Establecemos la conexión con el simulador\n",
    "clientID = connect(19999)\n",
    "\n",
    "# Verificamos que el motor esté detenido\n",
    "moveBelt(0)\n",
    "\n",
    "# Verificamos los parámetros del controlador\n",
    "kp = 18    # la constante proporcional\n",
    "\n",
    "# Definimos los parámetros de la simulación ---------------\n",
    "t_inicial = getSimTime()      # tiempo inicial en milisegundos\n",
    "t_final = 5000    # tiempo final en milisegundos \n",
    "\n",
    "# Definimos los valores iniciales -------------------------\n",
    "pos_actual = getPos(\"Sphere\")[0]   # posición inicial en metros\n",
    "pos_deseada = 0.6 # posición deseada en metros\n",
    "vmotor = 0        # voltaje inicial del motor\n",
    "\n",
    "# Definimos las variables requeridas para la graficar -----\n",
    "t = []\n",
    "pos = []\n",
    "\n",
    "# Ahora entramos al lazo de control\n",
    "# calculamos repetidas veces hasta que se cumpla la condición de salida\n",
    "while (True):\n",
    "    # obtenemos los datos de tiempo y posición\n",
    "    t_actual = getSimTime() - t_inicial\n",
    "    pos_actual = getPos(\"Sphere\")[0]\n",
    "    e =  pos_deseada - pos_actual\n",
    "    \n",
    "    # aquí trabaja el controlador ------------\n",
    "    vmotor = kp*e\n",
    "    moveBelt(vmotor)\n",
    "    # ----------------------------------------\n",
    "    \n",
    "    # guardamos los datos actuales para graficar\n",
    "    t.append(t_actual)\n",
    "    pos.append(pos_actual)\n",
    "    \n",
    "    # y verificamos las condiciones de salida\n",
    "    if abs(e) < 0.001: break  # la bola llegó a la posición\n",
    "    if abs(pos_actual) > 0.7: break #  la bola salió de los límites\n",
    "    if t_actual >= t_final: break # terminó el tiempo de simulación\n",
    "\n",
    "# detenemos el motor\n",
    "moveBelt(0)\n",
    "\n",
    "# y graficamos los resultados\n",
    "plt.plot(t, pos)   \n",
    "plt.show()"
   ]
  },
  {
   "cell_type": "markdown",
   "metadata": {},
   "source": [
    "<h3> 4. Taller 6 - Diseño del controlador difuso para la correa transportadora</h3>\n",
    "Aplique el procedimiento de diseño ensayado anteriormente para conseguir un controlador difuso para el sistema de correa transportadora y esfera.<br><br>\n",
    "Considere los siguientes requerimientos de diseño:<br>\n",
    "- La posición de la bola debe ser controlada en el rango de trabajo desde -0.6 a 0.6 mts.<br>\n",
    "- El motor debe recibir voltajes entres -10 y 10 volts.<br>\n",
    "- Diseñe su controlador para privilegiar el tiempo de respuesta, manteniendo el controlador estable dentro del rango de movimientos permitidos (debe ser estable para los movimientos desde -0.6 a 0.6 y también desde 0.6 a -0.6).<br>\n",
    "<br> Desarrolle su solución en este mismo cuaderno de Jupyter. Muestre los gráficos para las funciones de membresía de entrada y salida, la curva de respuesta del cntrolador y también un gráfico para la respuesta ante un movimiento desde -0.6 a 0.6 mts."
   ]
  },
  {
   "cell_type": "code",
   "execution_count": null,
   "metadata": {},
   "outputs": [],
   "source": []
  }
 ],
 "metadata": {
  "kernelspec": {
   "display_name": "Python 3",
   "language": "python",
   "name": "python3"
  },
  "language_info": {
   "codemirror_mode": {
    "name": "ipython",
    "version": 3
   },
   "file_extension": ".py",
   "mimetype": "text/x-python",
   "name": "python",
   "nbconvert_exporter": "python",
   "pygments_lexer": "ipython3",
   "version": "3.10.6"
  }
 },
 "nbformat": 4,
 "nbformat_minor": 2
}
