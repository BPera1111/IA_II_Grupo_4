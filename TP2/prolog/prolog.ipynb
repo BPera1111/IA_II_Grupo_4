{
 "cells": [
  {
   "cell_type": "code",
   "execution_count": 27,
   "metadata": {},
   "outputs": [
    {
     "name": "stdout",
     "output_type": "stream",
     "text": [
      "_3848\n"
     ]
    }
   ],
   "source": [
    "from pyswip import Prolog\n",
    "\n",
    "# Inicializar el motor de Prolog\n",
    "prolog = Prolog()\n",
    "\n",
    "# Cargar las reglas desde el archivo reglas.pl\n",
    "prolog.consult(\"reglas.pl\")\n",
    "\n",
    "# Función para realizar la inferencia\n",
    "def inferencia(input1, input2):\n",
    "    # Consultar una regla en Prolog\n",
    "    consulta = f\"regla({input1}, {input2}, Resultado).\"\n",
    "    for solucion in prolog.query(consulta):\n",
    "        return solucion[\"Resultado\"]\n",
    "    return \"No se encontró una regla para esa combinación\"\n",
    "\n",
    "# Ejemplo de uso\n",
    "resultado = inferencia(\"PN\", \"PP\")\n",
    "print(resultado)  # Output: PP\n"
   ]
  },
  {
   "cell_type": "code",
   "execution_count": 28,
   "metadata": {},
   "outputs": [
    {
     "name": "stdout",
     "output_type": "stream",
     "text": [
      "Consulta: regla(PN, PP, Resultado).\n",
      "Solución encontrada: {'PN': Variable(104), 'PP': Variable(107), 'Resultado': Variable(110)}\n",
      "Resultado de la inferencia: _4926\n"
     ]
    }
   ],
   "source": [
    "from pyswip import Prolog\n",
    "\n",
    "# Inicializar el motor de Prolog\n",
    "prolog = Prolog()\n",
    "\n",
    "# Cargar las reglas desde el archivo reglas.pl\n",
    "prolog.consult(\"reglas.pl\")\n",
    "\n",
    "# Función para realizar la inferencia\n",
    "def inferencia(input1, input2):\n",
    "    # Consultar una regla en Prolog\n",
    "    consulta = f\"regla({input1}, {input2}, Resultado).\"\n",
    "    print(\"Consulta:\", consulta)  # Agregamos este print para depurar la consulta\n",
    "    for solucion in prolog.query(consulta):\n",
    "        print(\"Solución encontrada:\", solucion)  # Agregamos este print para depurar la solución\n",
    "        return solucion[\"Resultado\"]\n",
    "    return \"No se encontró una regla para esa combinación\"\n",
    "\n",
    "# Ejemplo de uso\n",
    "resultado = inferencia(\"PN\", \"PP\")\n",
    "print(\"Resultado de la inferencia:\", resultado)\n"
   ]
  }
 ],
 "metadata": {
  "kernelspec": {
   "display_name": "Python 3",
   "language": "python",
   "name": "python3"
  },
  "language_info": {
   "codemirror_mode": {
    "name": "ipython",
    "version": 3
   },
   "file_extension": ".py",
   "mimetype": "text/x-python",
   "name": "python",
   "nbconvert_exporter": "python",
   "pygments_lexer": "ipython3",
   "version": "3.10.6"
  }
 },
 "nbformat": 4,
 "nbformat_minor": 2
}
